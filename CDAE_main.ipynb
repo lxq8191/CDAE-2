{
 "cells": [
  {
   "cell_type": "code",
   "execution_count": 1,
   "metadata": {
    "scrolled": true
   },
   "outputs": [
    {
     "name": "stderr",
     "output_type": "stream",
     "text": [
      "/Users/larry/Py3/lib/python3.6/importlib/_bootstrap.py:205: RuntimeWarning: compiletime version 3.5 of module 'tensorflow.python.framework.fast_tensor_util' does not match runtime version 3.6\n",
      "  return f(*args, **kwds)\n"
     ]
    }
   ],
   "source": [
    "import numpy as np\n",
    "import pandas as pd\n",
    "import matplotlib.pyplot as plt\n",
    "import tensorflow as tf\n",
    "from CDAE import AutoEncoder\n",
    "from tqdm import trange\n",
    "\n",
    "%matplotlib inline"
   ]
  },
  {
   "cell_type": "markdown",
   "metadata": {},
   "source": [
    "## Data preprocessing"
   ]
  },
  {
   "cell_type": "code",
   "execution_count": 2,
   "metadata": {},
   "outputs": [
    {
     "name": "stdout",
     "output_type": "stream",
     "text": [
      "sparsity of ratings is 3.82%\n",
      "num. of users: 5000, num. of items: 99\n"
     ]
    }
   ],
   "source": [
    "df = pd.read_csv('./rating_data.csv')\n",
    "df_array = df.as_matrix()\n",
    "\n",
    "total_usr = len(df['uid'].unique())\n",
    "total_item = len(df['iid'].unique())\n",
    "\n",
    "sparsity = len(df)/(total_usr*total_item)\n",
    "print(\"sparsity of ratings is %.2f%%\" %(sparsity*100))\n",
    "print (\"num. of users: %d, num. of items: %d\" % (total_usr, total_item))"
   ]
  },
  {
   "cell_type": "code",
   "execution_count": 3,
   "metadata": {
    "collapsed": true
   },
   "outputs": [],
   "source": [
    "# from sklearn.model_selection import train_test_split\n",
    "\n",
    "# train_data, test_data = train_test_split(df_array, test_size=0.2)\n",
    "\n",
    "rating = np.zeros((total_usr, total_item), dtype=np.float32)\n",
    "for line in df_array:\n",
    "    rating[line[0]-1, line[1]-1] = 1 if line[2] > 3 else 0"
   ]
  },
  {
   "cell_type": "markdown",
   "metadata": {},
   "source": [
    "### Drop users' rating that less than 5"
   ]
  },
  {
   "cell_type": "code",
   "execution_count": 4,
   "metadata": {},
   "outputs": [
    {
     "name": "stdout",
     "output_type": "stream",
     "text": [
      "new sparsity of ratings is 7.04%\n",
      "332 99\n"
     ]
    }
   ],
   "source": [
    "a = [usr_idx for usr_idx in range(rating.shape[0]) if np.count_nonzero(rating[usr_idx]) < 5]\n",
    "rating = np.delete(rating, a, axis=0)\n",
    "# a = [item_idx for item_idx in range(rating.shape[1]) if np.count_nonzero(rating.T[item_idx]) == 0]\n",
    "# rating = np.delete(rating, a, axis=1)\n",
    "\n",
    "n_u = rating.shape[0]\n",
    "n_i = rating.shape[1]\n",
    "count = 0\n",
    "\n",
    "for line in rating:\n",
    "    count += np.count_nonzero(line)\n",
    "sparsity = count/(n_u*n_i)    \n",
    "print (\"new sparsity of ratings is %.2f%%\" % (sparsity*100))\n",
    "print (n_u, n_i)"
   ]
  },
  {
   "cell_type": "markdown",
   "metadata": {},
   "source": [
    "## MAP@5 with various drop_rate"
   ]
  },
  {
   "cell_type": "code",
   "execution_count": 5,
   "metadata": {
    "scrolled": false
   },
   "outputs": [
    {
     "name": "stderr",
     "output_type": "stream",
     "text": [
      "100%|██████████| 50/50 [00:13<00:00,  3.57it/s]\n",
      "100%|██████████| 50/50 [00:14<00:00,  3.47it/s]\n",
      "100%|██████████| 50/50 [00:14<00:00,  3.43it/s]\n",
      "100%|██████████| 50/50 [00:14<00:00,  3.42it/s]\n",
      "100%|██████████| 50/50 [00:14<00:00,  3.46it/s]\n"
     ]
    }
   ],
   "source": [
    "drop_rate = [0., 0.2, 0.4, 0.6, 0.8]\n",
    "mAP = []\n",
    "\n",
    "for rate in drop_rate:\n",
    "    tf.reset_default_graph()\n",
    "    sess = tf.Session()\n",
    "    X = tf.placeholder(tf.float32, shape=(1, n_i))\n",
    "    Y = tf.placeholder(tf.float32, shape=(1, n_i))\n",
    "\n",
    "    autoencoder = AutoEncoder(sess=sess, inputs=X, user_num=n_u, hidden_units=20,\n",
    "                              item_num=n_i, targets=Y, lr=0.01, epochs=50, dropout_rate=rate, \n",
    "                              cost_function='log_loss')\n",
    "    autoencoder.train(rating=rating)\n",
    "    ap = autoencoder.averagePrecision(rating)\n",
    "    mAP.append(sum(ap)/len(ap))"
   ]
  },
  {
   "cell_type": "code",
   "execution_count": 6,
   "metadata": {},
   "outputs": [
    {
     "data": {
      "image/png": "[encoded data removed]",
      "text/plain": [
       "<matplotlib.figure.Figure at 0x120f29b38>"
      ]
     },
     "metadata": {},
     "output_type": "display_data"
    }
   ],
   "source": [
    "plt.bar(drop_rate, mAP, width=0.1, label='MAP')\n",
    "plt.legend(loc='upper left')\n",
    "plt.xticks(drop_rate)\n",
    "plt.xlabel('drop_rate')\n",
    "plt.ylabel('mAP')\n",
    "plt.show()"
   ]
  },
  {
   "cell_type": "markdown",
   "metadata": {},
   "source": [
    "## Build Model and Training"
   ]
  },
  {
   "cell_type": "code",
   "execution_count": 17,
   "metadata": {},
   "outputs": [
    {
     "name": "stderr",
     "output_type": "stream",
     "text": [
      "100%|██████████| 50/50 [00:16<00:00,  3.02it/s]\n"
     ]
    }
   ],
   "source": [
    "tf.reset_default_graph()\n",
    "sess = tf.Session()\n",
    "X = tf.placeholder(tf.float32, shape=(1, n_i))\n",
    "Y = tf.placeholder(tf.float32, shape=(1, n_i))\n",
    "\n",
    "autoencoder = AutoEncoder(sess=sess, inputs=X, user_num=n_u, hidden_units=20,\n",
    "                          item_num=n_i, targets=Y, lr=0.01, epochs=50, dropout_rate=0.6,\n",
    "                          cost_function='log_loss')\n",
    "autoencoder.train(rating=rating)"
   ]
  },
  {
   "cell_type": "code",
   "execution_count": 18,
   "metadata": {
    "scrolled": true
   },
   "outputs": [
    {
     "data": {
      "image/png": "[encoded data removed]",
      "text/plain": [
       "<matplotlib.figure.Figure at 0x120aab940>"
      ]
     },
     "metadata": {},
     "output_type": "display_data"
    }
   ],
   "source": [
    "train_loss = autoencoder.log['train_loss']\n",
    "test_loss = autoencoder.log['valid_loss']\n",
    "plt.plot(range(len(train_loss)), train_loss, color='blue', label='Train loss')\n",
    "# plt.plot(range(len(test_loss)), test_loss, color='red', label='Test loss')\n",
    "plt.legend(loc=\"upper right\")\n",
    "plt.xlabel('#Epoch')\n",
    "plt.ylabel('Loss')\n",
    "plt.show()"
   ]
  },
  {
   "cell_type": "markdown",
   "metadata": {},
   "source": [
    "## MAP@5"
   ]
  },
  {
   "cell_type": "code",
   "execution_count": 19,
   "metadata": {
    "collapsed": true
   },
   "outputs": [],
   "source": [
    "ap = autoencoder.averagePrecision(rating)"
   ]
  },
  {
   "cell_type": "code",
   "execution_count": 20,
   "metadata": {},
   "outputs": [
    {
     "data": {
      "image/png": "[encoded data removed]",
      "text/plain": [
       "<matplotlib.figure.Figure at 0x121002898>"
      ]
     },
     "metadata": {},
     "output_type": "display_data"
    }
   ],
   "source": [
    "plt.plot(range(len(ap)), ap, color='red', label='AP')\n",
    "# plt.plot(range(len(test_loss)), test_loss, color='red', label='Test loss')\n",
    "plt.legend(loc=\"upper right\")\n",
    "plt.xlabel('UID')\n",
    "plt.ylabel('AP')\n",
    "plt.show()"
   ]
  },
  {
   "cell_type": "code",
   "execution_count": 21,
   "metadata": {
    "scrolled": true
   },
   "outputs": [
    {
     "name": "stdout",
     "output_type": "stream",
     "text": [
      "0.0785542168674697\n"
     ]
    }
   ],
   "source": [
    "print (sum(ap)/len(ap))"
   ]
  },
  {
   "cell_type": "markdown",
   "metadata": {
    "collapsed": true
   },
   "source": [
    "## Top20 Videos"
   ]
  },
  {
   "cell_type": "code",
   "execution_count": 22,
   "metadata": {},
   "outputs": [],
   "source": [
    "rank = []\n",
    "for item_id, idx in enumerate(range(rating.shape[1])):\n",
    "    rank.append(np.count_nonzero(rating.T[idx]))\n",
    "    \n",
    "rank = np.asarray(rank)\n",
    "rank_ = rank.argsort()\n",
    "top20 = rank.argsort()[-20:][::-1]"
   ]
  },
  {
   "cell_type": "code",
   "execution_count": 23,
   "metadata": {},
   "outputs": [],
   "source": [
    "recon_rank = {}\n",
    "for usr in range(rating.shape[0]):\n",
    "    recon = autoencoder.recon.eval(\n",
    "        session=autoencoder.sess,\n",
    "        feed_dict={\n",
    "            autoencoder.inputs: [rating[usr]],\n",
    "            autoencoder.user_id: usr\n",
    "        })\n",
    "    \n",
    "    usrTop20 = recon[0].argsort()[-20:][::-1]\n",
    "    for item in usrTop20:\n",
    "        if item in recon_rank:\n",
    "            recon_rank[item] += 1\n",
    "        else:\n",
    "            recon_rank[item] = 1"
   ]
  },
  {
   "cell_type": "code",
   "execution_count": 24,
   "metadata": {
    "scrolled": true
   },
   "outputs": [
    {
     "name": "stdout",
     "output_type": "stream",
     "text": [
      "[82 17  2 27 57 56 76 78 75 96  4  0 90 43  7 47 32  5 51 45]\n",
      "[29 27 82  2 17 57 96 56 43  4 47 75 78 76  0 90 51  7 46 32]\n"
     ]
    }
   ],
   "source": [
    "a = np.asarray(list(recon_rank.items()))\n",
    "recon_top20 = np.sort(a, axis=1)[-20:, 0]\n",
    "print (recon_top20)\n",
    "print (top20)"
   ]
  },
  {
   "cell_type": "markdown",
   "metadata": {},
   "source": [
    "### hit rate"
   ]
  },
  {
   "cell_type": "code",
   "execution_count": 25,
   "metadata": {},
   "outputs": [
    {
     "name": "stdout",
     "output_type": "stream",
     "text": [
      "0.9\n"
     ]
    }
   ],
   "source": [
    "count = 0\n",
    "for i in recon_top20:\n",
    "    count += 1 if i in top20 else 0\n",
    "\n",
    "print (count/20)"
   ]
  },
  {
   "cell_type": "markdown",
   "metadata": {},
   "source": [
    "### where are them originally"
   ]
  },
  {
   "cell_type": "code",
   "execution_count": 26,
   "metadata": {
    "scrolled": true
   },
   "outputs": [
    {
     "name": "stdout",
     "output_type": "stream",
     "text": [
      "item 5: 72\n",
      "item 45: 78\n"
     ]
    }
   ],
   "source": [
    "rank_list = list(rank_)\n",
    "for item in recon_top20:\n",
    "    if item not in top20:\n",
    "        print (\"item %d: %d\" % (item, rank_list.index(item)))"
   ]
  },
  {
   "cell_type": "code",
   "execution_count": null,
   "metadata": {
    "collapsed": true
   },
   "outputs": [],
   "source": []
  }
 ],
 "metadata": {
  "kernelspec": {
   "display_name": "Python 3",
   "language": "python",
   "name": "python3"
  },
  "language_info": {
   "codemirror_mode": {
    "name": "ipython",
    "version": 3
   },
   "file_extension": ".py",
   "mimetype": "text/x-python",
   "name": "python",
   "nbconvert_exporter": "python",
   "pygments_lexer": "ipython3",
   "version": "3.6.2"
  }
 },
 "nbformat": 4,
 "nbformat_minor": 2
}
